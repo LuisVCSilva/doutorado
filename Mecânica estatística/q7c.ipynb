{
 "cells": [
  {
   "cell_type": "code",
   "execution_count": 5,
   "id": "88fa8484-987a-4209-a54b-a600698de5f2",
   "metadata": {},
   "outputs": [],
   "source": [
    "#Cálculo do Coeficiente de Difusão\n",
    "import numpy as np\n",
    "import matplotlib.pyplot as plt\n",
    "from itertools import cycle\n",
    "def random_walk(step_n):\n",
    "    origin = np.zeros((1)) \n",
    "    steps = 2 * pi * np.random.uniform(low=0.0, high=1.0, size=step_n)\n",
    "    x_steps = np.cos(steps)\n",
    "    y_steps = np.sin(steps)\n",
    "    x_path = np.concatenate([origin, x_steps]).cumsum(0)\n",
    "    y_path = np.concatenate([origin, y_steps]).cumsum(0)\n",
    "    return x_path, y_path\n",
    "\n",
    "pi = np.pi\n",
    "step_n = 100000\n",
    "x_path, y_path = random_walk(step_n)\n",
    "r_values = np.sqrt(x_path**2 + y_path**2)  \n",
    "theta_values = np.arctan2(y_path, x_path) \n",
    "\n",
    "r_squared = r_values**2\n",
    "\n",
    "time_steps = np.arange(1, step_n + 1)\n",
    "mean_r_squared = np.array([np.mean(r_squared[:i]) for i in time_steps])\n",
    "D = mean_r_squared[-1] / (2 * 2 * time_steps[-1])"
   ]
  },
  {
   "cell_type": "code",
   "execution_count": null,
   "id": "ee67464b-3612-4444-9326-a9e2dd59d21d",
   "metadata": {},
   "outputs": [],
   "source": []
  },
  {
   "cell_type": "code",
   "execution_count": null,
   "id": "4d27680e-2403-4de9-86bd-a4ce4085834b",
   "metadata": {},
   "outputs": [],
   "source": []
  },
  {
   "cell_type": "code",
   "execution_count": null,
   "id": "f6b38fad-fac8-4ed8-9b42-ddf0208d15f4",
   "metadata": {},
   "outputs": [],
   "source": []
  }
 ],
 "metadata": {
  "kernelspec": {
   "display_name": "Python 3 (ipykernel)",
   "language": "python",
   "name": "python3"
  },
  "language_info": {
   "codemirror_mode": {
    "name": "ipython",
    "version": 3
   },
   "file_extension": ".py",
   "mimetype": "text/x-python",
   "name": "python",
   "nbconvert_exporter": "python",
   "pygments_lexer": "ipython3",
   "version": "3.10.12"
  }
 },
 "nbformat": 4,
 "nbformat_minor": 5
}
