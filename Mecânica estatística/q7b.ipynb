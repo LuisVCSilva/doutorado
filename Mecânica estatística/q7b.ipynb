{
 "cells": [
  {
   "cell_type": "code",
   "execution_count": 3,
   "id": "46cfa7e4-1e2a-4a31-96d6-7360e72bd094",
   "metadata": {},
   "outputs": [
    {
     "data": {
      "image/png": "[encoded data removed]",
      "text/plain": [
       "<Figure size 576x288 with 1 Axes>"
      ]
     },
     "metadata": {
      "needs_background": "light"
     },
     "output_type": "display_data"
    },
    {
     "data": {
      "image/png": "[encoded data removed]",
      "text/plain": [
       "<Figure size 576x288 with 1 Axes>"
      ]
     },
     "metadata": {
      "needs_background": "light"
     },
     "output_type": "display_data"
    }
   ],
   "source": [
    "import numpy as np\n",
    "import matplotlib.pyplot as plt\n",
    "from itertools import cycle\n",
    "\n",
    "\n",
    "def random_walk(step_n):\n",
    "    origin = np.zeros((1)) \n",
    "    steps = 2 * pi * np.random.uniform(low=0.0, high=1.0, size=step_n)\n",
    "    x_steps = np.cos(steps)\n",
    "    y_steps = np.sin(steps)\n",
    "    x_path = np.concatenate([origin, x_steps]).cumsum(0)\n",
    "    y_path = np.concatenate([origin, y_steps]).cumsum(0)\n",
    "    return x_path, y_path\n",
    "pi = np.pi\n",
    "step_n = 100000\n",
    "x_path, y_path = random_walk(step_n)\n",
    "r_values = np.sqrt(x_path**2 + y_path**2)  \n",
    "theta_values = np.arctan2(y_path, x_path) \n",
    "\n",
    "plt.figure(figsize=(8, 4))\n",
    "plt.hist(r_values, bins=50, density=True, color='blue', alpha=0.7)\n",
    "plt.xlabel('r')\n",
    "plt.ylabel('Probabilidade')\n",
    "plt.grid(True)\n",
    "plt.show()\n",
    "\n",
    "plt.figure(figsize=(8, 4))\n",
    "plt.hist(theta_values, bins=50, density=True, color='green', alpha=0.7)\n",
    "plt.grid(True)\n",
    "plt.show()"
   ]
  },
  {
   "cell_type": "code",
   "execution_count": null,
   "id": "6b58e165-207f-45dd-bd74-4d5dc5e3983e",
   "metadata": {},
   "outputs": [],
   "source": []
  },
  {
   "cell_type": "code",
   "execution_count": null,
   "id": "bda2cd62-ae22-4c9f-a2f8-69489d6f952a",
   "metadata": {},
   "outputs": [],
   "source": []
  }
 ],
 "metadata": {
  "kernelspec": {
   "display_name": "Python 3 (ipykernel)",
   "language": "python",
   "name": "python3"
  },
  "language_info": {
   "codemirror_mode": {
    "name": "ipython",
    "version": 3
   },
   "file_extension": ".py",
   "mimetype": "text/x-python",
   "name": "python",
   "nbconvert_exporter": "python",
   "pygments_lexer": "ipython3",
   "version": "3.10.12"
  }
 },
 "nbformat": 4,
 "nbformat_minor": 5
}
